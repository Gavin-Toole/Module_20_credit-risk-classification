{
 "cells": [
  {
   "cell_type": "code",
   "execution_count": 1,
   "metadata": {},
   "outputs": [],
   "source": [
    "# Import the modules\n",
    "import numpy as np\n",
    "import pandas as pd\n",
    "from pathlib import Path\n",
    "from sklearn.metrics import balanced_accuracy_score, confusion_matrix, classification_report\n",
    "from imblearn.over_sampling import RandomOverSampler"
   ]
  },
  {
   "cell_type": "markdown",
   "metadata": {},
   "source": [
    "---"
   ]
  },
  {
   "cell_type": "markdown",
   "metadata": {},
   "source": [
    "## Split the Data into Training and Testing Sets"
   ]
  },
  {
   "cell_type": "markdown",
   "metadata": {},
   "source": [
    "### Step 1: Read the `lending_data.csv` data from the `Resources` folder into a Pandas DataFrame."
   ]
  },
  {
   "cell_type": "code",
   "execution_count": 2,
   "metadata": {},
   "outputs": [
    {
     "data": {
      "text/html": [
       "<div>\n",
       "<style scoped>\n",
       "    .dataframe tbody tr th:only-of-type {\n",
       "        vertical-align: middle;\n",
       "    }\n",
       "\n",
       "    .dataframe tbody tr th {\n",
       "        vertical-align: top;\n",
       "    }\n",
       "\n",
       "    .dataframe thead th {\n",
       "        text-align: right;\n",
       "    }\n",
       "</style>\n",
       "<table border=\"1\" class=\"dataframe\">\n",
       "  <thead>\n",
       "    <tr style=\"text-align: right;\">\n",
       "      <th></th>\n",
       "      <th>loan_size</th>\n",
       "      <th>interest_rate</th>\n",
       "      <th>borrower_income</th>\n",
       "      <th>debt_to_income</th>\n",
       "      <th>num_of_accounts</th>\n",
       "      <th>derogatory_marks</th>\n",
       "      <th>total_debt</th>\n",
       "      <th>loan_status</th>\n",
       "    </tr>\n",
       "  </thead>\n",
       "  <tbody>\n",
       "    <tr>\n",
       "      <th>4247</th>\n",
       "      <td>8700.0</td>\n",
       "      <td>6.834</td>\n",
       "      <td>44900</td>\n",
       "      <td>0.331849</td>\n",
       "      <td>3</td>\n",
       "      <td>0</td>\n",
       "      <td>14900</td>\n",
       "      <td>0</td>\n",
       "    </tr>\n",
       "    <tr>\n",
       "      <th>36428</th>\n",
       "      <td>9500.0</td>\n",
       "      <td>7.145</td>\n",
       "      <td>47800</td>\n",
       "      <td>0.372385</td>\n",
       "      <td>4</td>\n",
       "      <td>0</td>\n",
       "      <td>17800</td>\n",
       "      <td>0</td>\n",
       "    </tr>\n",
       "    <tr>\n",
       "      <th>44504</th>\n",
       "      <td>10300.0</td>\n",
       "      <td>7.490</td>\n",
       "      <td>51100</td>\n",
       "      <td>0.412916</td>\n",
       "      <td>4</td>\n",
       "      <td>1</td>\n",
       "      <td>21100</td>\n",
       "      <td>0</td>\n",
       "    </tr>\n",
       "    <tr>\n",
       "      <th>17524</th>\n",
       "      <td>10900.0</td>\n",
       "      <td>7.752</td>\n",
       "      <td>53500</td>\n",
       "      <td>0.439252</td>\n",
       "      <td>5</td>\n",
       "      <td>1</td>\n",
       "      <td>23500</td>\n",
       "      <td>0</td>\n",
       "    </tr>\n",
       "    <tr>\n",
       "      <th>30973</th>\n",
       "      <td>11200.0</td>\n",
       "      <td>7.893</td>\n",
       "      <td>54900</td>\n",
       "      <td>0.453552</td>\n",
       "      <td>5</td>\n",
       "      <td>1</td>\n",
       "      <td>24900</td>\n",
       "      <td>0</td>\n",
       "    </tr>\n",
       "    <tr>\n",
       "      <th>67349</th>\n",
       "      <td>9800.0</td>\n",
       "      <td>7.272</td>\n",
       "      <td>49000</td>\n",
       "      <td>0.387755</td>\n",
       "      <td>4</td>\n",
       "      <td>0</td>\n",
       "      <td>19000</td>\n",
       "      <td>0</td>\n",
       "    </tr>\n",
       "    <tr>\n",
       "      <th>13874</th>\n",
       "      <td>9900.0</td>\n",
       "      <td>7.323</td>\n",
       "      <td>49500</td>\n",
       "      <td>0.393939</td>\n",
       "      <td>4</td>\n",
       "      <td>0</td>\n",
       "      <td>19500</td>\n",
       "      <td>0</td>\n",
       "    </tr>\n",
       "    <tr>\n",
       "      <th>76862</th>\n",
       "      <td>16700.0</td>\n",
       "      <td>10.239</td>\n",
       "      <td>77000</td>\n",
       "      <td>0.610390</td>\n",
       "      <td>10</td>\n",
       "      <td>2</td>\n",
       "      <td>47000</td>\n",
       "      <td>1</td>\n",
       "    </tr>\n",
       "    <tr>\n",
       "      <th>54860</th>\n",
       "      <td>9200.0</td>\n",
       "      <td>7.019</td>\n",
       "      <td>46700</td>\n",
       "      <td>0.357602</td>\n",
       "      <td>3</td>\n",
       "      <td>0</td>\n",
       "      <td>16700</td>\n",
       "      <td>0</td>\n",
       "    </tr>\n",
       "    <tr>\n",
       "      <th>53604</th>\n",
       "      <td>8900.0</td>\n",
       "      <td>6.905</td>\n",
       "      <td>45600</td>\n",
       "      <td>0.342105</td>\n",
       "      <td>3</td>\n",
       "      <td>0</td>\n",
       "      <td>15600</td>\n",
       "      <td>0</td>\n",
       "    </tr>\n",
       "  </tbody>\n",
       "</table>\n",
       "</div>"
      ],
      "text/plain": [
       "       loan_size  interest_rate  borrower_income  debt_to_income  \\\n",
       "4247      8700.0          6.834            44900        0.331849   \n",
       "36428     9500.0          7.145            47800        0.372385   \n",
       "44504    10300.0          7.490            51100        0.412916   \n",
       "17524    10900.0          7.752            53500        0.439252   \n",
       "30973    11200.0          7.893            54900        0.453552   \n",
       "67349     9800.0          7.272            49000        0.387755   \n",
       "13874     9900.0          7.323            49500        0.393939   \n",
       "76862    16700.0         10.239            77000        0.610390   \n",
       "54860     9200.0          7.019            46700        0.357602   \n",
       "53604     8900.0          6.905            45600        0.342105   \n",
       "\n",
       "       num_of_accounts  derogatory_marks  total_debt  loan_status  \n",
       "4247                 3                 0       14900            0  \n",
       "36428                4                 0       17800            0  \n",
       "44504                4                 1       21100            0  \n",
       "17524                5                 1       23500            0  \n",
       "30973                5                 1       24900            0  \n",
       "67349                4                 0       19000            0  \n",
       "13874                4                 0       19500            0  \n",
       "76862               10                 2       47000            1  \n",
       "54860                3                 0       16700            0  \n",
       "53604                3                 0       15600            0  "
      ]
     },
     "execution_count": 2,
     "metadata": {},
     "output_type": "execute_result"
    }
   ],
   "source": [
    "# Read the CSV file from the Resources folder into a Pandas DataFrame\n",
    "data = Path('Resources/lending_data.csv')\n",
    "df_lending_data = pd.read_csv(data)\n",
    "\n",
    "\n",
    "# Review the DataFrame\n",
    "df_lending_data.sample(10)"
   ]
  },
  {
   "cell_type": "markdown",
   "metadata": {},
   "source": [
    "### Step 2: Create the labels set (`y`)  from the “loan_status” column, and then create the features (`X`) DataFrame from the remaining columns."
   ]
  },
  {
   "cell_type": "code",
   "execution_count": 3,
   "metadata": {},
   "outputs": [],
   "source": [
    "# Separate the data into labels and features\n",
    "# Separate the y variable, the labels\n",
    "y = df_lending_data[\"loan_status\"]\n",
    "\n",
    "# Separate the X variable, the features\n",
    "X = df_lending_data.drop([\"loan_status\"], axis=1)"
   ]
  },
  {
   "cell_type": "code",
   "execution_count": 4,
   "metadata": {},
   "outputs": [
    {
     "data": {
      "text/plain": [
       "42443    0\n",
       "23795    0\n",
       "9636     0\n",
       "24369    0\n",
       "34951    0\n",
       "59532    0\n",
       "71153    0\n",
       "5900     0\n",
       "40509    0\n",
       "62580    0\n",
       "Name: loan_status, dtype: int64"
      ]
     },
     "execution_count": 4,
     "metadata": {},
     "output_type": "execute_result"
    }
   ],
   "source": [
    "# Review the y variable Series\n",
    "y.sample(10)"
   ]
  },
  {
   "cell_type": "code",
   "execution_count": 5,
   "metadata": {},
   "outputs": [
    {
     "data": {
      "text/html": [
       "<div>\n",
       "<style scoped>\n",
       "    .dataframe tbody tr th:only-of-type {\n",
       "        vertical-align: middle;\n",
       "    }\n",
       "\n",
       "    .dataframe tbody tr th {\n",
       "        vertical-align: top;\n",
       "    }\n",
       "\n",
       "    .dataframe thead th {\n",
       "        text-align: right;\n",
       "    }\n",
       "</style>\n",
       "<table border=\"1\" class=\"dataframe\">\n",
       "  <thead>\n",
       "    <tr style=\"text-align: right;\">\n",
       "      <th></th>\n",
       "      <th>loan_size</th>\n",
       "      <th>interest_rate</th>\n",
       "      <th>borrower_income</th>\n",
       "      <th>debt_to_income</th>\n",
       "      <th>num_of_accounts</th>\n",
       "      <th>derogatory_marks</th>\n",
       "      <th>total_debt</th>\n",
       "    </tr>\n",
       "  </thead>\n",
       "  <tbody>\n",
       "    <tr>\n",
       "      <th>26022</th>\n",
       "      <td>11000.0</td>\n",
       "      <td>7.782</td>\n",
       "      <td>53800</td>\n",
       "      <td>0.442379</td>\n",
       "      <td>5</td>\n",
       "      <td>1</td>\n",
       "      <td>23800</td>\n",
       "    </tr>\n",
       "    <tr>\n",
       "      <th>75826</th>\n",
       "      <td>18500.0</td>\n",
       "      <td>10.969</td>\n",
       "      <td>83800</td>\n",
       "      <td>0.642005</td>\n",
       "      <td>12</td>\n",
       "      <td>2</td>\n",
       "      <td>53800</td>\n",
       "    </tr>\n",
       "    <tr>\n",
       "      <th>58563</th>\n",
       "      <td>10300.0</td>\n",
       "      <td>7.501</td>\n",
       "      <td>51200</td>\n",
       "      <td>0.414062</td>\n",
       "      <td>4</td>\n",
       "      <td>1</td>\n",
       "      <td>21200</td>\n",
       "    </tr>\n",
       "    <tr>\n",
       "      <th>3668</th>\n",
       "      <td>9600.0</td>\n",
       "      <td>7.185</td>\n",
       "      <td>48200</td>\n",
       "      <td>0.377593</td>\n",
       "      <td>4</td>\n",
       "      <td>0</td>\n",
       "      <td>18200</td>\n",
       "    </tr>\n",
       "    <tr>\n",
       "      <th>74614</th>\n",
       "      <td>10300.0</td>\n",
       "      <td>7.495</td>\n",
       "      <td>51100</td>\n",
       "      <td>0.412916</td>\n",
       "      <td>4</td>\n",
       "      <td>1</td>\n",
       "      <td>21100</td>\n",
       "    </tr>\n",
       "    <tr>\n",
       "      <th>71397</th>\n",
       "      <td>7500.0</td>\n",
       "      <td>6.324</td>\n",
       "      <td>40100</td>\n",
       "      <td>0.251870</td>\n",
       "      <td>2</td>\n",
       "      <td>0</td>\n",
       "      <td>10100</td>\n",
       "    </tr>\n",
       "    <tr>\n",
       "      <th>72056</th>\n",
       "      <td>10100.0</td>\n",
       "      <td>7.427</td>\n",
       "      <td>50500</td>\n",
       "      <td>0.405941</td>\n",
       "      <td>4</td>\n",
       "      <td>1</td>\n",
       "      <td>20500</td>\n",
       "    </tr>\n",
       "    <tr>\n",
       "      <th>29731</th>\n",
       "      <td>6500.0</td>\n",
       "      <td>5.900</td>\n",
       "      <td>36100</td>\n",
       "      <td>0.168975</td>\n",
       "      <td>1</td>\n",
       "      <td>0</td>\n",
       "      <td>6100</td>\n",
       "    </tr>\n",
       "    <tr>\n",
       "      <th>60503</th>\n",
       "      <td>8500.0</td>\n",
       "      <td>6.758</td>\n",
       "      <td>44200</td>\n",
       "      <td>0.321267</td>\n",
       "      <td>3</td>\n",
       "      <td>0</td>\n",
       "      <td>14200</td>\n",
       "    </tr>\n",
       "    <tr>\n",
       "      <th>10623</th>\n",
       "      <td>11000.0</td>\n",
       "      <td>7.787</td>\n",
       "      <td>53900</td>\n",
       "      <td>0.443414</td>\n",
       "      <td>5</td>\n",
       "      <td>1</td>\n",
       "      <td>23900</td>\n",
       "    </tr>\n",
       "  </tbody>\n",
       "</table>\n",
       "</div>"
      ],
      "text/plain": [
       "       loan_size  interest_rate  borrower_income  debt_to_income  \\\n",
       "26022    11000.0          7.782            53800        0.442379   \n",
       "75826    18500.0         10.969            83800        0.642005   \n",
       "58563    10300.0          7.501            51200        0.414062   \n",
       "3668      9600.0          7.185            48200        0.377593   \n",
       "74614    10300.0          7.495            51100        0.412916   \n",
       "71397     7500.0          6.324            40100        0.251870   \n",
       "72056    10100.0          7.427            50500        0.405941   \n",
       "29731     6500.0          5.900            36100        0.168975   \n",
       "60503     8500.0          6.758            44200        0.321267   \n",
       "10623    11000.0          7.787            53900        0.443414   \n",
       "\n",
       "       num_of_accounts  derogatory_marks  total_debt  \n",
       "26022                5                 1       23800  \n",
       "75826               12                 2       53800  \n",
       "58563                4                 1       21200  \n",
       "3668                 4                 0       18200  \n",
       "74614                4                 1       21100  \n",
       "71397                2                 0       10100  \n",
       "72056                4                 1       20500  \n",
       "29731                1                 0        6100  \n",
       "60503                3                 0       14200  \n",
       "10623                5                 1       23900  "
      ]
     },
     "execution_count": 5,
     "metadata": {},
     "output_type": "execute_result"
    }
   ],
   "source": [
    "# Review the X variable DataFrame\n",
    "X.sample(10)"
   ]
  },
  {
   "cell_type": "markdown",
   "metadata": {},
   "source": [
    "### Step 3: Check the balance of the labels variable (`y`) by using the `value_counts` function."
   ]
  },
  {
   "cell_type": "code",
   "execution_count": 6,
   "metadata": {},
   "outputs": [
    {
     "data": {
      "text/plain": [
       "0    75036\n",
       "1     2500\n",
       "Name: loan_status, dtype: int64"
      ]
     },
     "execution_count": 6,
     "metadata": {},
     "output_type": "execute_result"
    }
   ],
   "source": [
    "# Check the balance of our target values\n",
    "y.value_counts()"
   ]
  },
  {
   "cell_type": "markdown",
   "metadata": {},
   "source": [
    "### Step 4: Split the data into training and testing datasets by using `train_test_split`."
   ]
  },
  {
   "cell_type": "code",
   "execution_count": 7,
   "metadata": {},
   "outputs": [],
   "source": [
    "# Import the train_test_learn module\n",
    "from sklearn.model_selection import train_test_split\n",
    "\n",
    "# Split the data using train_test_split\n",
    "# Assign a random_state of 1 to the function\n",
    "X_train, X_test, y_train, y_test = train_test_split (X, y, random_state=1, train_size=0.7)"
   ]
  },
  {
   "cell_type": "markdown",
   "metadata": {},
   "source": [
    "---"
   ]
  },
  {
   "cell_type": "markdown",
   "metadata": {},
   "source": [
    "## Create a Logistic Regression Model with the Original Data"
   ]
  },
  {
   "cell_type": "markdown",
   "metadata": {},
   "source": [
    "###  Step 1: Fit a logistic regression model by using the training data (`X_train` and `y_train`)."
   ]
  },
  {
   "cell_type": "code",
   "execution_count": 8,
   "metadata": {},
   "outputs": [],
   "source": [
    "# Import the LogisticRegression module from SKLearn\n",
    "from sklearn.linear_model import LogisticRegression\n",
    "\n",
    "# Instantiate the Logistic Regression model\n",
    "# Assign a random_state parameter of 1 to the model\n",
    "logistic_regression_model = LogisticRegression(random_state = 1)\n",
    "\n",
    "# Fit the model using training data\n",
    "lr_model = logistic_regression_model.fit(X_train, y_train)\n",
    "\n"
   ]
  },
  {
   "cell_type": "code",
   "execution_count": 9,
   "metadata": {},
   "outputs": [],
   "source": [
    "# Generate training predictions on the data\n",
    "training_predictions = logistic_regression_model.predict(X_train)\n"
   ]
  },
  {
   "cell_type": "markdown",
   "metadata": {},
   "source": [
    "### Step 2: Save the predictions on the testing data labels by using the testing feature data (`X_test`) and the fitted model and score the model."
   ]
  },
  {
   "cell_type": "code",
   "execution_count": 10,
   "metadata": {},
   "outputs": [
    {
     "data": {
      "text/html": [
       "<div>\n",
       "<style scoped>\n",
       "    .dataframe tbody tr th:only-of-type {\n",
       "        vertical-align: middle;\n",
       "    }\n",
       "\n",
       "    .dataframe tbody tr th {\n",
       "        vertical-align: top;\n",
       "    }\n",
       "\n",
       "    .dataframe thead th {\n",
       "        text-align: right;\n",
       "    }\n",
       "</style>\n",
       "<table border=\"1\" class=\"dataframe\">\n",
       "  <thead>\n",
       "    <tr style=\"text-align: right;\">\n",
       "      <th></th>\n",
       "      <th>Prediction</th>\n",
       "      <th>Actual</th>\n",
       "    </tr>\n",
       "  </thead>\n",
       "  <tbody>\n",
       "    <tr>\n",
       "      <th>16492</th>\n",
       "      <td>0</td>\n",
       "      <td>0</td>\n",
       "    </tr>\n",
       "    <tr>\n",
       "      <th>60741</th>\n",
       "      <td>0</td>\n",
       "      <td>0</td>\n",
       "    </tr>\n",
       "    <tr>\n",
       "      <th>6895</th>\n",
       "      <td>0</td>\n",
       "      <td>0</td>\n",
       "    </tr>\n",
       "    <tr>\n",
       "      <th>52803</th>\n",
       "      <td>0</td>\n",
       "      <td>0</td>\n",
       "    </tr>\n",
       "    <tr>\n",
       "      <th>25408</th>\n",
       "      <td>0</td>\n",
       "      <td>0</td>\n",
       "    </tr>\n",
       "    <tr>\n",
       "      <th>56082</th>\n",
       "      <td>0</td>\n",
       "      <td>0</td>\n",
       "    </tr>\n",
       "    <tr>\n",
       "      <th>63296</th>\n",
       "      <td>0</td>\n",
       "      <td>0</td>\n",
       "    </tr>\n",
       "    <tr>\n",
       "      <th>19550</th>\n",
       "      <td>0</td>\n",
       "      <td>0</td>\n",
       "    </tr>\n",
       "    <tr>\n",
       "      <th>66250</th>\n",
       "      <td>0</td>\n",
       "      <td>0</td>\n",
       "    </tr>\n",
       "    <tr>\n",
       "      <th>10489</th>\n",
       "      <td>0</td>\n",
       "      <td>0</td>\n",
       "    </tr>\n",
       "  </tbody>\n",
       "</table>\n",
       "</div>"
      ],
      "text/plain": [
       "       Prediction  Actual\n",
       "16492           0       0\n",
       "60741           0       0\n",
       "6895            0       0\n",
       "52803           0       0\n",
       "25408           0       0\n",
       "56082           0       0\n",
       "63296           0       0\n",
       "19550           0       0\n",
       "66250           0       0\n",
       "10489           0       0"
      ]
     },
     "execution_count": 10,
     "metadata": {},
     "output_type": "execute_result"
    }
   ],
   "source": [
    "# Make a prediction using the testing data\n",
    "testing_predictions = logistic_regression_model.predict(X_test)\n",
    "df_results = pd.DataFrame({\n",
    "    \"Prediction\" : testing_predictions,\n",
    "    \"Actual\" : y_test\n",
    "})\n",
    "df_results.sample(10)"
   ]
  },
  {
   "cell_type": "code",
   "execution_count": 11,
   "metadata": {},
   "outputs": [
    {
     "name": "stdout",
     "output_type": "stream",
     "text": [
      "Training Data Score: 0.9921\n",
      "Testing Data Score: 0.992\n"
     ]
    }
   ],
   "source": [
    "#Print the model score for the Training and Testing \n",
    "print(f\"Training Data Score: {round(lr_model.score(X_train, y_train),4)}\")\n",
    "print(f\"Testing Data Score: {round(lr_model.score(X_test, y_test),4)}\")"
   ]
  },
  {
   "cell_type": "markdown",
   "metadata": {},
   "source": [
    "### Step 3: Evaluate the model’s performance by doing the following:\n",
    "\n",
    "* Calculate the accuracy score of the model.\n",
    "\n",
    "* Generate a confusion matrix.\n",
    "\n",
    "* Print the classification report."
   ]
  },
  {
   "cell_type": "code",
   "execution_count": 32,
   "metadata": {},
   "outputs": [],
   "source": [
    "# Print the balanced_accuracy score of the model\n",
    "acc_score = balanced_accuracy_score(y_test, testing_predictions)\n"
   ]
  },
  {
   "cell_type": "code",
   "execution_count": 33,
   "metadata": {},
   "outputs": [],
   "source": [
    "# Generate a confusion matrix for the model\n",
    "training_matrix = confusion_matrix(y_train, training_predictions)\n"
   ]
  },
  {
   "cell_type": "code",
   "execution_count": 34,
   "metadata": {},
   "outputs": [],
   "source": [
    "# Print the classification report for the model\n",
    "training_report = classification_report(y_train, training_predictions)\n"
   ]
  },
  {
   "cell_type": "code",
   "execution_count": 35,
   "metadata": {},
   "outputs": [
    {
     "name": "stdout",
     "output_type": "stream",
     "text": [
      "Confusion Matrix\n"
     ]
    },
    {
     "data": {
      "text/plain": [
       "array([[52258,   263],\n",
       "       [  167,  1587]])"
      ]
     },
     "metadata": {},
     "output_type": "display_data"
    },
    {
     "name": "stdout",
     "output_type": "stream",
     "text": [
      "Accuracy Score : 0.950507049515396\n",
      "Classification Report\n",
      "              precision    recall  f1-score   support\n",
      "\n",
      "           0       1.00      0.99      1.00     52521\n",
      "           1       0.86      0.90      0.88      1754\n",
      "\n",
      "    accuracy                           0.99     54275\n",
      "   macro avg       0.93      0.95      0.94     54275\n",
      "weighted avg       0.99      0.99      0.99     54275\n",
      "\n"
     ]
    }
   ],
   "source": [
    " # Displaying results\n",
    "print(\"Confusion Matrix\")\n",
    "display(training_matrix)\n",
    "print(f\"Accuracy Score : {acc_score}\")\n",
    "print(\"Classification Report\")\n",
    "print(training_report)"
   ]
  },
  {
   "cell_type": "markdown",
   "metadata": {},
   "source": [
    "### Step 4: Answer the following question."
   ]
  },
  {
   "cell_type": "markdown",
   "metadata": {},
   "source": [
    "**Question:** How well does the logistic regression model predict both the `0` (healthy loan) and `1` (high-risk loan) labels?\n",
    "\n",
    "**Answer:** The logistic regression modle was 95% accurate in predicting the healthy vs high risk loans"
   ]
  },
  {
   "cell_type": "markdown",
   "metadata": {},
   "source": [
    "---"
   ]
  },
  {
   "cell_type": "markdown",
   "metadata": {},
   "source": [
    "## Predict a Logistic Regression Model with Resampled Training Data"
   ]
  },
  {
   "cell_type": "markdown",
   "metadata": {},
   "source": [
    "### Step 1: Use the `RandomOverSampler` module from the imbalanced-learn library to resample the data. Be sure to confirm that the labels have an equal number of data points. "
   ]
  },
  {
   "cell_type": "code",
   "execution_count": 22,
   "metadata": {},
   "outputs": [],
   "source": [
    "# Instantiate the random oversampler model\n",
    "# # Assign a random_state parameter of 1 to the model\n",
    "ros = RandomOverSampler(random_state=1)\n",
    "\n",
    "# Fit the original training data to the random_oversampler model\n",
    "X_resampled, y_resampled = ros.fit_resample(X, y)"
   ]
  },
  {
   "cell_type": "code",
   "execution_count": 23,
   "metadata": {},
   "outputs": [
    {
     "data": {
      "text/plain": [
       "0    75036\n",
       "1    75036\n",
       "Name: loan_status, dtype: int64"
      ]
     },
     "execution_count": 23,
     "metadata": {},
     "output_type": "execute_result"
    }
   ],
   "source": [
    "# Count the distinct values of the resampled labels data\n",
    "y_resampled.value_counts()"
   ]
  },
  {
   "cell_type": "markdown",
   "metadata": {},
   "source": [
    "### Step 2: Split the over sampled data into training and testing datasets by using `train_test_split`."
   ]
  },
  {
   "cell_type": "code",
   "execution_count": 24,
   "metadata": {},
   "outputs": [],
   "source": [
    "# Split the over sampled data using train_test_split\n",
    "# Assign a random_state of 1 to the function\n",
    "X_resampled_train, X_resampled_test, y_resampled_train, y_resampled_test = train_test_split(X_resampled,\n",
    "                                                                                             y_resampled,\n",
    "                                                                                             random_state=1,\n",
    "                                                                                             train_size=0.7)"
   ]
  },
  {
   "cell_type": "markdown",
   "metadata": {},
   "source": [
    "### Step 3: Use the `LogisticRegression` classifier and the resampled data to fit the model and make predictions."
   ]
  },
  {
   "cell_type": "code",
   "execution_count": 25,
   "metadata": {},
   "outputs": [],
   "source": [
    "# Instantiate the Logistic Regression model\n",
    "# Assign a random_state parameter of 1 to the model\n",
    "ros_model = LogisticRegression(random_state = 1)\n",
    "\n",
    "# Fit the model using over sampled training data\n",
    "ros_model.fit(X_resampled_train, y_resampled_train)\n",
    "\n",
    "# Generate training predictions on the over sampled data data\n",
    "ros_training_predictions = ros_model.predict(X_resampled_train)\n",
    "\n",
    "\n"
   ]
  },
  {
   "cell_type": "code",
   "execution_count": 26,
   "metadata": {},
   "outputs": [
    {
     "data": {
      "text/html": [
       "<div>\n",
       "<style scoped>\n",
       "    .dataframe tbody tr th:only-of-type {\n",
       "        vertical-align: middle;\n",
       "    }\n",
       "\n",
       "    .dataframe tbody tr th {\n",
       "        vertical-align: top;\n",
       "    }\n",
       "\n",
       "    .dataframe thead th {\n",
       "        text-align: right;\n",
       "    }\n",
       "</style>\n",
       "<table border=\"1\" class=\"dataframe\">\n",
       "  <thead>\n",
       "    <tr style=\"text-align: right;\">\n",
       "      <th></th>\n",
       "      <th>Prediction</th>\n",
       "      <th>Actual</th>\n",
       "    </tr>\n",
       "  </thead>\n",
       "  <tbody>\n",
       "    <tr>\n",
       "      <th>128171</th>\n",
       "      <td>1</td>\n",
       "      <td>1</td>\n",
       "    </tr>\n",
       "    <tr>\n",
       "      <th>109356</th>\n",
       "      <td>1</td>\n",
       "      <td>1</td>\n",
       "    </tr>\n",
       "    <tr>\n",
       "      <th>24776</th>\n",
       "      <td>0</td>\n",
       "      <td>0</td>\n",
       "    </tr>\n",
       "    <tr>\n",
       "      <th>79332</th>\n",
       "      <td>1</td>\n",
       "      <td>1</td>\n",
       "    </tr>\n",
       "    <tr>\n",
       "      <th>144215</th>\n",
       "      <td>1</td>\n",
       "      <td>1</td>\n",
       "    </tr>\n",
       "    <tr>\n",
       "      <th>51492</th>\n",
       "      <td>0</td>\n",
       "      <td>0</td>\n",
       "    </tr>\n",
       "    <tr>\n",
       "      <th>93813</th>\n",
       "      <td>1</td>\n",
       "      <td>1</td>\n",
       "    </tr>\n",
       "    <tr>\n",
       "      <th>132256</th>\n",
       "      <td>1</td>\n",
       "      <td>1</td>\n",
       "    </tr>\n",
       "    <tr>\n",
       "      <th>35956</th>\n",
       "      <td>0</td>\n",
       "      <td>0</td>\n",
       "    </tr>\n",
       "    <tr>\n",
       "      <th>96956</th>\n",
       "      <td>1</td>\n",
       "      <td>1</td>\n",
       "    </tr>\n",
       "  </tbody>\n",
       "</table>\n",
       "</div>"
      ],
      "text/plain": [
       "        Prediction  Actual\n",
       "128171           1       1\n",
       "109356           1       1\n",
       "24776            0       0\n",
       "79332            1       1\n",
       "144215           1       1\n",
       "51492            0       0\n",
       "93813            1       1\n",
       "132256           1       1\n",
       "35956            0       0\n",
       "96956            1       1"
      ]
     },
     "execution_count": 26,
     "metadata": {},
     "output_type": "execute_result"
    }
   ],
   "source": [
    "# Make a prediction using the over sampled testing data\n",
    "ros_testing_predictions = ros_model.predict(X_resampled_test)\n",
    "df_ros_results = pd.DataFrame({\n",
    "    \"Prediction\" : ros_testing_predictions,\n",
    "    \"Actual\" : y_resampled_test\n",
    "})\n",
    "df_ros_results.sample(10)"
   ]
  },
  {
   "cell_type": "markdown",
   "metadata": {},
   "source": [
    "### Step 4: Evaluate the model’s performance by doing the following:\n",
    "\n",
    "* Calculate the accuracy score of the model.\n",
    "\n",
    "* Generate a confusion matrix.\n",
    "\n",
    "* Print the classification report."
   ]
  },
  {
   "cell_type": "code",
   "execution_count": 36,
   "metadata": {},
   "outputs": [],
   "source": [
    "# Print the balanced_accuracy score of the model \n",
    "ros_acc_score = balanced_accuracy_score(y_resampled_test, ros_testing_predictions)\n"
   ]
  },
  {
   "cell_type": "code",
   "execution_count": 37,
   "metadata": {},
   "outputs": [],
   "source": [
    "# Generate a confusion matrix for the model\n",
    "ros_matrix = confusion_matrix(y_resampled_train, ros_training_predictions)\n"
   ]
  },
  {
   "cell_type": "code",
   "execution_count": 38,
   "metadata": {},
   "outputs": [],
   "source": [
    "# Print the classification report for the model\n",
    "ros_report = classification_report(y_resampled_train, ros_training_predictions)\n"
   ]
  },
  {
   "cell_type": "code",
   "execution_count": 39,
   "metadata": {},
   "outputs": [
    {
     "name": "stdout",
     "output_type": "stream",
     "text": [
      "Confusion Matrix\n",
      "[[52111   309]\n",
      " [  293 52337]]\n",
      "Accuracy Score : 0.9950470690253296\n",
      "Classification Report\n",
      "              precision    recall  f1-score   support\n",
      "\n",
      "           0       0.99      0.99      0.99     52420\n",
      "           1       0.99      0.99      0.99     52630\n",
      "\n",
      "    accuracy                           0.99    105050\n",
      "   macro avg       0.99      0.99      0.99    105050\n",
      "weighted avg       0.99      0.99      0.99    105050\n",
      "\n"
     ]
    }
   ],
   "source": [
    " # Displaying results\n",
    "print(\"Confusion Matrix\")\n",
    "print(ros_matrix)\n",
    "print(f\"Accuracy Score : {ros_acc_score}\")\n",
    "print(\"Classification Report\")\n",
    "print(ros_report)"
   ]
  },
  {
   "cell_type": "markdown",
   "metadata": {},
   "source": [
    "### Step 5: Answer the following question"
   ]
  },
  {
   "cell_type": "markdown",
   "metadata": {},
   "source": [
    "**Question:** How well does the logistic regression model, fit with oversampled data, predict both the `0` (healthy loan) and `1` (high-risk loan) labels?\n",
    "\n",
    "**Answer: The logistic regression model predicts the oversampled data with near-perfect accuracy (>99% accurate)"
   ]
  },
  {
   "cell_type": "markdown",
   "metadata": {},
   "source": [
    "# Credit Risk Analysis Report"
   ]
  },
  {
   "cell_type": "markdown",
   "metadata": {},
   "source": [
    "Explain the purpose of this analysis:\n",
    "\n",
    "The purpose of this analysis is to create and evaluate the accuracy of a data model that predicts the credity worthiness of potential borrowers from peer-to-peer lending services\n",
    "\n",
    "Using a bulleted list, describe the accuracy score, the precision score, and recall score of the machine learning model.\n",
    "    Balanced Accuracy Score: 95.1% --> this means that when taking into account the sensitivity (recall and/or true positive rate) and specificity (true negative rate) of the model, the balanced prediction accuracy was 95.1%\n",
    "    Precision Score: 93% --> This means 93% of predicted positives were correct\n",
    "    Recall Score: 95% --> this means that the model was 95% precise in measuring true positive values our of all positive predictions made\n",
    "\n",
    "Summarize the results from the machine learning model. \n",
    "Include your justification for recommending the model for use by the company. If you don’t recommend the model, justify your reasoning.\n",
    "\n",
    "I would recommend using this model to predict the creditworthiness of borrowers, because it has over 95% accuracy in predicting the outcome of the repayment of the initial loan. That accuracy range could be easily molded into a business risk profile to ensure sufficient capital flow for the lenders to remain in business/make a profit."
   ]
  }
 ],
 "metadata": {
  "kernelspec": {
   "display_name": "Python 3 (ipykernel)",
   "language": "python",
   "name": "python3"
  },
  "language_info": {
   "codemirror_mode": {
    "name": "ipython",
    "version": 3
   },
   "file_extension": ".py",
   "mimetype": "text/x-python",
   "name": "python",
   "nbconvert_exporter": "python",
   "pygments_lexer": "ipython3",
   "version": "3.10.10"
  },
  "vscode": {
   "interpreter": {
    "hash": "31f2aee4e71d21fbe5cf8b01ff0e069b9275f58929596ceb00d14d90e3e16cd6"
   }
  }
 },
 "nbformat": 4,
 "nbformat_minor": 4
}
